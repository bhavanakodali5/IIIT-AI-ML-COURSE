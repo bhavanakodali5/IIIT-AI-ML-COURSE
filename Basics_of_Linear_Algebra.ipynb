{
  "cells": [
    {
      "cell_type": "markdown",
      "metadata": {
        "id": "view-in-github",
        "colab_type": "text"
      },
      "source": [
        "<a href=\"https://colab.research.google.com/github/bhavanakodali5/IIIT-AI-ML-COURSE/blob/main/Basics_of_Linear_Algebra.ipynb\" target=\"_parent\"><img src=\"https://colab.research.google.com/assets/colab-badge.svg\" alt=\"Open In Colab\"/></a>"
      ]
    },
    {
      "cell_type": "markdown",
      "metadata": {
        "id": "ZfkNibSQgtCZ"
      },
      "source": [
        "## Basics of Linear Algebra"
      ]
    },
    {
      "cell_type": "markdown",
      "metadata": {
        "id": "bAPP654PeaPa"
      },
      "source": [
        "Import the NumPy library for Linear Algebra functions and Matplotlib for some plotting functions."
      ]
    },
    {
      "cell_type": "code",
      "execution_count": 1,
      "metadata": {
        "id": "ZHOzQlD7eQxm"
      },
      "outputs": [],
      "source": [
        "import numpy as np\n",
        "import matplotlib.pyplot as plt"
      ]
    },
    {
      "cell_type": "markdown",
      "metadata": {
        "id": "YXhIDS8NevLp"
      },
      "source": [
        "### Transpose of Matrix\n",
        "\n",
        "Matrix transpose is performed with the transpose method on a nested list or a Python array, or a higher-dimensional Numpy array."
      ]
    },
    {
      "cell_type": "code",
      "execution_count": 2,
      "metadata": {
        "colab": {
          "base_uri": "https://localhost:8080/"
        },
        "id": "NbJbiJ6Sewe0",
        "outputId": "4c6957d5-9736-4c1a-cfa5-0d1281dcc688"
      },
      "outputs": [
        {
          "output_type": "stream",
          "name": "stdout",
          "text": [
            "a\n",
            " [[1, 2, 3, 4], [2, 3, 4, 5]]\n",
            "b\n",
            " [[1 2]\n",
            " [2 3]\n",
            " [3 4]\n",
            " [4 5]]\n"
          ]
        }
      ],
      "source": [
        " # Transpose of a Matrix (as nested list)\n",
        " a = [[1,2,3,4],[2,3,4,5]]\n",
        " b = np.transpose(a)\n",
        " print('a\\n',a)\n",
        " print('b\\n',b)"
      ]
    },
    {
      "cell_type": "markdown",
      "metadata": {
        "id": "3fUxqcc7fDHn"
      },
      "source": [
        "If the matrix is a NumPy array, it can be treated as an object and method T can be applied over it as follows."
      ]
    },
    {
      "cell_type": "code",
      "execution_count": 3,
      "metadata": {
        "colab": {
          "base_uri": "https://localhost:8080/"
        },
        "id": "9lWWJwbsfEKj",
        "outputId": "4a107b97-dbe8-4a32-bf99-52fa70968566"
      },
      "outputs": [
        {
          "output_type": "stream",
          "name": "stdout",
          "text": [
            "Matrix and its Transpose\n",
            "a\n",
            " [[1 2 3 4]\n",
            " [2 3 4 5]]\n",
            "b\n",
            " [[1 2]\n",
            " [2 3]\n",
            " [3 4]\n",
            " [4 5]]\n"
          ]
        }
      ],
      "source": [
        "  # Transpose of a Matrix (as NumPy array)\n",
        "print (\"Matrix and its Transpose\")\n",
        "a = np.array([[1,2,3,4],[2,3,4,5]])\n",
        "b = a.T\n",
        "print('a\\n',a)\n",
        "print('b\\n',b)"
      ]
    },
    {
      "cell_type": "markdown",
      "metadata": {
        "id": "YFEGttjsfiQe"
      },
      "source": [
        "The dot method of NumPy performs dot-matrix product (scalar product) for 1D or higher dimensional arrays. If the inputs are scalars (numbers), it performs multiplication."
      ]
    },
    {
      "cell_type": "code",
      "execution_count": 4,
      "metadata": {
        "colab": {
          "base_uri": "https://localhost:8080/"
        },
        "id": "euFPFMmNfjG-",
        "outputId": "78067745-f43d-40be-f3bb-3ad57552c84e"
      },
      "outputs": [
        {
          "output_type": "stream",
          "name": "stdout",
          "text": [
            "15\n"
          ]
        }
      ],
      "source": [
        " # scalars\n",
        " a = 5\n",
        " b = 3\n",
        " z = np.dot(a,b)\n",
        " print(z)"
      ]
    },
    {
      "cell_type": "code",
      "execution_count": 5,
      "metadata": {
        "colab": {
          "base_uri": "https://localhost:8080/"
        },
        "id": "bXk9XEnqfuF4",
        "outputId": "4778e09b-3b8b-4e86-c44f-cda5ea232f86"
      },
      "outputs": [
        {
          "output_type": "stream",
          "name": "stdout",
          "text": [
            "15\n"
          ]
        }
      ],
      "source": [
        " z = a * b\n",
        " print(z)"
      ]
    },
    {
      "cell_type": "markdown",
      "metadata": {
        "id": "kqJ5cmN6f4Go"
      },
      "source": [
        "In the case of one- or higher-dimensional arrays, the inputs can be either NumPy arrays, Python arrays, Python lists or Python’s nested lists."
      ]
    },
    {
      "cell_type": "code",
      "execution_count": 6,
      "metadata": {
        "colab": {
          "base_uri": "https://localhost:8080/"
        },
        "id": "U2dUeiHLf5Bx",
        "outputId": "e9bb49a9-d9b5-4b9f-88c9-17e60d76d6c9"
      },
      "outputs": [
        {
          "output_type": "stream",
          "name": "stdout",
          "text": [
            "20\n"
          ]
        }
      ],
      "source": [
        " # 1D arrays or vectors\n",
        " a = np.array([1,2,3])  # or a = [1,2,3]\n",
        " b = np.array([2,3,4])  # or b = [2,3,4]\n",
        " z = np.dot(a,b)\n",
        " print(z)\n"
      ]
    },
    {
      "cell_type": "code",
      "execution_count": 7,
      "metadata": {
        "colab": {
          "base_uri": "https://localhost:8080/"
        },
        "id": "kWFmevo-gIWV",
        "outputId": "0cea19d9-b36e-44ba-9608-eed97722b4c5"
      },
      "outputs": [
        {
          "output_type": "stream",
          "name": "stdout",
          "text": [
            "[[-1 -1 25]\n",
            " [ 6 10 22]\n",
            " [31 27 19]]\n"
          ]
        }
      ],
      "source": [
        " # 2D arrays or matrices\n",
        " a = [[1,2,3],[2,0,3],[7,-5,1]]\n",
        " b = [[3,-1,5],[-2,-6,4], [0,4,4]]\n",
        " z = np.dot(a,b)\n",
        " print(z)\n"
      ]
    },
    {
      "cell_type": "markdown",
      "metadata": {
        "id": "_cEG72RdIkmI"
      },
      "source": [
        "We can obtained the same result using `np.matmul()`."
      ]
    },
    {
      "cell_type": "code",
      "execution_count": 8,
      "metadata": {
        "colab": {
          "base_uri": "https://localhost:8080/"
        },
        "id": "hN3aQ5jVIais",
        "outputId": "f63911ce-2fef-45f6-ecc1-deb3037d5c83"
      },
      "outputs": [
        {
          "output_type": "stream",
          "name": "stdout",
          "text": [
            "[[-1 -1 25]\n",
            " [ 6 10 22]\n",
            " [31 27 19]]\n"
          ]
        }
      ],
      "source": [
        "z = np.matmul(a,b)\n",
        "print(z)"
      ]
    },
    {
      "cell_type": "markdown",
      "metadata": {
        "id": "QOgLFDj8g31t"
      },
      "source": [
        "### Numpy Arrays\n",
        "A NumPy array is a Numpy object upon which the dot method can be performed as below. However, this method accepts only NumPy arrays to operate on.\n"
      ]
    },
    {
      "cell_type": "code",
      "execution_count": 9,
      "metadata": {
        "colab": {
          "base_uri": "https://localhost:8080/"
        },
        "id": "D61xhcT_g7Eu",
        "outputId": "e76cc264-6d0e-401a-efb3-b58448ae0560"
      },
      "outputs": [
        {
          "output_type": "stream",
          "name": "stdout",
          "text": [
            "[[-1 -1 25]\n",
            " [ 6 10 22]\n",
            " [31 27 19]]\n"
          ]
        }
      ],
      "source": [
        " # convert lists into NumPy arrays\n",
        " newa = np.array(a)\n",
        " newb = np.array(b)\n",
        " z = newa.dot(newb)\n",
        " print(z)"
      ]
    },
    {
      "cell_type": "markdown",
      "metadata": {
        "id": "uCefpm7o0j5y"
      },
      "source": [
        "### Inner Product\n",
        "\n",
        "The inner product is the scalar multiplication of one vector (or matrix) and the transpose of another vector (or matrix). If both arrays are 1D arrays, their dimensions should be identical. If either or both arrays are higher-dimensional, then the last dimensions of both arrays should be identical."
      ]
    },
    {
      "cell_type": "code",
      "execution_count": 11,
      "metadata": {
        "colab": {
          "base_uri": "https://localhost:8080/"
        },
        "id": "bmLy4CCs0gCl",
        "outputId": "50b3c2fb-1339-496d-9877-9cc3b74280eb"
      },
      "outputs": [
        {
          "output_type": "stream",
          "name": "stdout",
          "text": [
            "[18 21]\n"
          ]
        }
      ],
      "source": [
        " a = np.array([[1,2,3], [4,-1,0]])\n",
        " b = np.array([6,3,2])\n",
        " z = np.inner(a,b)\n",
        " print(z)"
      ]
    },
    {
      "cell_type": "code",
      "execution_count": 12,
      "metadata": {
        "colab": {
          "base_uri": "https://localhost:8080/"
        },
        "id": "0aVTzlXC1AwG",
        "outputId": "944dfdab-b412-461d-c155-25d1e34d4854"
      },
      "outputs": [
        {
          "output_type": "execute_result",
          "data": {
            "text/plain": [
              "array([18, 21])"
            ]
          },
          "metadata": {},
          "execution_count": 12
        }
      ],
      "source": [
        "\n",
        "# The same results can be obtained using the dot method as follows.\n",
        "\n",
        "a.dot(b.T)"
      ]
    },
    {
      "cell_type": "markdown",
      "metadata": {
        "id": "KX34ZLjv1JHD"
      },
      "source": [
        "### Outer Product\n",
        "\n",
        "Outer product is the dot product of a column vector of size Mx1 and a row vector of size 1xN. The resulting array is a matrix of size MxN.\n"
      ]
    },
    {
      "cell_type": "code",
      "execution_count": 13,
      "metadata": {
        "colab": {
          "base_uri": "https://localhost:8080/"
        },
        "id": "hktyza1R1G0K",
        "outputId": "d3bc50c8-fdde-4ca5-9814-4e4ffd270436"
      },
      "outputs": [
        {
          "output_type": "stream",
          "name": "stdout",
          "text": [
            "[[ 6  3  2]\n",
            " [12  6  4]\n",
            " [18  9  6]\n",
            " [24 12  8]\n",
            " [30 15 10]]\n"
          ]
        }
      ],
      "source": [
        " a = np.array([1,2,3,4,5])\n",
        " b = np.array([6,3,2])\n",
        " z = np.outer(a,b)\n",
        " print(z)"
      ]
    },
    {
      "cell_type": "markdown",
      "metadata": {
        "id": "5vsxEYGq1pKl"
      },
      "source": [
        "The last dimension of the second array and the second-to-last dimension of the first array should be identical to perform matrix multiplication. Further, the symbol @ is also used to perform matrix multiplication."
      ]
    },
    {
      "cell_type": "code",
      "execution_count": 14,
      "metadata": {
        "colab": {
          "base_uri": "https://localhost:8080/"
        },
        "id": "ltAaQjPt1p95",
        "outputId": "c3b5e296-ec49-40fc-bb17-ca147d9ffe1c"
      },
      "outputs": [
        {
          "output_type": "stream",
          "name": "stdout",
          "text": [
            "(3, 2, 3)\n"
          ]
        }
      ],
      "source": [
        " # Here, 'a' matrix is 3D, which means there are 3 matrices each of 2x5 size\n",
        " # Similarly, for 'b' matrix\n",
        " # So we perform 3 matrix multiplication operations each with 2x5 and 5x3 matrices from a and b\n",
        " a = np.random.random([3,2,5])\n",
        " b = np.random.random([3,5,3])\n",
        " z = a @ b\n",
        " print(z.shape)"
      ]
    },
    {
      "cell_type": "markdown",
      "metadata": {
        "id": "tKi7vaCc1xXd"
      },
      "source": [
        "### Matrix Determinant\n",
        "\n",
        "Matrix determinant can be calculated using the method det available in the linalg module."
      ]
    },
    {
      "cell_type": "code",
      "execution_count": 15,
      "metadata": {
        "colab": {
          "base_uri": "https://localhost:8080/"
        },
        "id": "ONGBxJuS1zGP",
        "outputId": "b28e405b-d2e0-4824-acda-d6fe8340b42e"
      },
      "outputs": [
        {
          "output_type": "stream",
          "name": "stdout",
          "text": [
            "461\n"
          ]
        }
      ],
      "source": [
        " # generate a random integer matrix of size 3 by 3\n",
        " a = np.random.randint(1,10,[3,3])\n",
        " det = np.linalg.det(a)\n",
        " print(int(det))"
      ]
    },
    {
      "cell_type": "markdown",
      "metadata": {
        "id": "kmX7izKQ18yY"
      },
      "source": [
        "### Matrix Inverse\n",
        "\n",
        "Inverse of a square matrix can be derived using the inv method of the linalg module.\n"
      ]
    },
    {
      "cell_type": "code",
      "execution_count": 16,
      "metadata": {
        "colab": {
          "base_uri": "https://localhost:8080/"
        },
        "id": "bPvi1QGq1-g8",
        "outputId": "02e6c5e4-28b0-4f6d-f50b-91a15130758b"
      },
      "outputs": [
        {
          "output_type": "stream",
          "name": "stdout",
          "text": [
            "[[2 5 9]\n",
            " [4 7 9]\n",
            " [8 5 5]]\n",
            "\n",
            "[[ 0.11904762 -0.23809524  0.21428571]\n",
            " [-0.61904762  0.73809524 -0.21428571]\n",
            " [ 0.42857143 -0.35714286  0.07142857]]\n"
          ]
        }
      ],
      "source": [
        " a = np.random.randint(1,10,[3,3])\n",
        " inv = np.linalg.inv(a)\n",
        " print(a)\n",
        " print()\n",
        " print(inv)\n"
      ]
    },
    {
      "cell_type": "markdown",
      "metadata": {
        "id": "9ftxHuxC2eSE"
      },
      "source": [
        "### Traces of a Matrix\n",
        "\n",
        "Traces of a square matrix is the summation of its diagonal elements."
      ]
    },
    {
      "cell_type": "code",
      "execution_count": null,
      "metadata": {
        "colab": {
          "base_uri": "https://localhost:8080/"
        },
        "id": "WfqE1uaA2fqh",
        "outputId": "bff0c340-8670-4948-fd4e-fa33e04bf80c"
      },
      "outputs": [
        {
          "output_type": "stream",
          "name": "stdout",
          "text": [
            "[[1. 0. 0. 0. 0.]\n",
            " [0. 1. 0. 0. 0.]\n",
            " [0. 0. 1. 0. 0.]\n",
            " [0. 0. 0. 1. 0.]\n",
            " [0. 0. 0. 0. 1.]]\n",
            "\n",
            "Trace of matrix is:  5.0\n"
          ]
        }
      ],
      "source": [
        "a = np.eye(5)\n",
        "print(a)\n",
        "z = np.trace(a)\n",
        "print('\\nTrace of matrix is: ',z)"
      ]
    },
    {
      "cell_type": "code",
      "execution_count": null,
      "metadata": {
        "id": "1A3npCtyK5eT"
      },
      "outputs": [],
      "source": []
    }
  ],
  "metadata": {
    "accelerator": "GPU",
    "colab": {
      "provenance": [],
      "include_colab_link": true
    },
    "kernelspec": {
      "display_name": "Python 3",
      "name": "python3"
    },
    "language_info": {
      "name": "python"
    }
  },
  "nbformat": 4,
  "nbformat_minor": 0
}